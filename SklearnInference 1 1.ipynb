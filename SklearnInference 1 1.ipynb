{
  "cells": [
    {
      "cell_type": "code",
      "metadata": {
        "id": "60260368_0.5500660012705949"
      },
      "execution_count": 2,
      "source": [
        "#Import required libraries\nimport pandas as pd\nfrom sklearn import model_selection\nfrom sklearn.linear_model import LogisticRegression\nimport pickle\ndef SklearnModelInference():\n    #Access data\n    url = \"https://raw.githubusercontent.com/jbrownlee/Datasets/master/pima-indians-diabetes.data.csv\"\n    names = ['preg', 'plas', 'pres', 'skin', 'test', 'mass', 'pedi', 'age', 'class']\n    dataframe = pd.read_csv(url, names=names)\n    \n    #Create test and train data\n    array = dataframe.values\n    X = array[:,0:8]\n    Y = array[:,8]\n    test_size = 0.33\n    seed = 7\n    X_train, X_test, Y_train, Y_test = model_selection.train_test_split(X, Y, test_size=test_size, random_state=seed)\n    \n    #Load the DS Lab model\n    from Notebook.DSNotebook.NotebookExecutor import NotebookExecutor\n    nb = NotebookExecutor()\n    loaded_model = nb.load_saved_model('11121674207581238')\n    \n    #Sklearn Predict function (Native)\n    Predictions = loaded_model.predict(X_test)\n    \n    #Get predicted output\n    df_test = pd.DataFrame(X_test, columns = ['preg', 'plas', 'pres', 'skin', 'test', 'mass', 'pedi', 'age'])\n    df_test['Predictions'] = Predictions\n    return df_test"
      ],
      "outputs": []
    },
    {
      "cell_type": "code",
      "metadata": {
        "id": "60260368_0.13400948711797578"
      },
      "execution_count": 5,
      "source": [
        "SklearnModelInference()"
      ],
      "outputs": [
        {
          "traceback": [
            "---------------------------------------------------------------------------",
            "KeyError                                  Traceback (most recent call last)",
            "Cell In[6], line 1\n----> 1 SklearnModelInference()\n",
            "Cell In[3], line 23, in SklearnModelInference()\n     21 from Notebook.DSNotebook.NotebookExecutor import NotebookExecutor\n     22 nb = NotebookExecutor()\n---> 23 loaded_model = nb.load_saved_model('11121674207581238')\n     25 #Sklearn Predict function (Native)\n     26 Predictions = loaded_model.predict(X_test)\n",
            "File /app/Notebook/DSNotebook/NotebookExecutor.py:1427, in NotebookExecutor.load_saved_model(self, uuid, projectId, UserId, **kwargs)\n   1425 spacekey = str(os.environ['SPACE_KEY'])\n   1426 res = getNoteBookModelById(spacekey, UserId, uuid)\n-> 1427 notebookModel = res[\"panotebook\"][\"notebookModel\"]\n   1428 modelId = notebookModel.get('id', None)\n   1429 Model_type = notebookModel.get(\"modelType\")\n",
            "KeyError: 'notebookModel'"
          ],
          "ename": "KeyError",
          "evalue": "'notebookModel'",
          "output_type": "error"
        }
      ]
    }
  ],
  "metadata": {},
  "nbformat": 4,
  "nbformat_minor": 2
}